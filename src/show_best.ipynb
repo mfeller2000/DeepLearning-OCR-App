{
 "cells": [
  {
   "cell_type": "code",
   "execution_count": 9,
   "id": "4247e4d3-71a5-4956-bfdf-16ff5cbb769a",
   "metadata": {
    "tags": []
   },
   "outputs": [],
   "source": [
    "import os\n",
    "\n",
    "def read_first_lines(folder_path, output_file):\n",
    "    with open(output_file, 'w') as output:\n",
    "        for file_name in os.listdir(folder_path):\n",
    "            if file_name.endswith('.txt'):\n",
    "                file_path = os.path.join(folder_path, file_name)\n",
    "                with open(file_path, 'r') as file:\n",
    "                    first_line = file.readline().strip()\n",
    "                    output.write(f'{file_name}: {first_line}\\n')\n",
    "\n",
    "# Usage example\n",
    "folder_path = 'evaluations/'  # Replace with the path to your folder\n",
    "output_file = 'summary.txt'  # Replace with the desired output file name\n",
    "\n",
    "read_first_lines(folder_path, output_file)"
   ]
  },
  {
   "cell_type": "code",
   "execution_count": null,
   "id": "559323cc-3e35-4f8c-ab8e-e9b3e31e5e38",
   "metadata": {},
   "outputs": [],
   "source": []
  }
 ],
 "metadata": {
  "kernelspec": {
   "display_name": "TensorFlowGPU",
   "language": "python",
   "name": "tf_gpu"
  },
  "language_info": {
   "codemirror_mode": {
    "name": "ipython",
    "version": 3
   },
   "file_extension": ".py",
   "mimetype": "text/x-python",
   "name": "python",
   "nbconvert_exporter": "python",
   "pygments_lexer": "ipython3",
   "version": "3.9.16"
  }
 },
 "nbformat": 4,
 "nbformat_minor": 5
}
